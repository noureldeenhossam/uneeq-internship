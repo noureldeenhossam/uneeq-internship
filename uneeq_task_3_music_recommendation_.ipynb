{
  "nbformat": 4,
  "nbformat_minor": 0,
  "metadata": {
    "colab": {
      "provenance": [],
      "authorship_tag": "ABX9TyNz56/OSOazakvSrto25BvC",
      "include_colab_link": true
    },
    "kernelspec": {
      "name": "python3",
      "display_name": "Python 3"
    },
    "language_info": {
      "name": "python"
    }
  },
  "cells": [
    {
      "cell_type": "markdown",
      "metadata": {
        "id": "view-in-github",
        "colab_type": "text"
      },
      "source": [
        "<a href=\"https://colab.research.google.com/github/noureldeenhossam/uneeq-internship/blob/main/uneeq_task_3_music_recommendation_.ipynb\" target=\"_parent\"><img src=\"https://colab.research.google.com/assets/colab-badge.svg\" alt=\"Open In Colab\"/></a>"
      ]
    },
    {
      "cell_type": "code",
      "execution_count": null,
      "metadata": {
        "id": "H_z7s8GkAyD8"
      },
      "outputs": [],
      "source": [
        "import pandas as pd\n"
      ]
    },
    {
      "cell_type": "code",
      "source": [
        "df = pd.read_csv(\"/content/spotify_millsongdata.csv\")\n"
      ],
      "metadata": {
        "id": "dklS0iGgA5Xg"
      },
      "execution_count": null,
      "outputs": []
    },
    {
      "cell_type": "code",
      "source": [
        "df =df.sample(5000).drop('link', axis=1).reset_index(drop=True)\n"
      ],
      "metadata": {
        "id": "V7-gQJfDCo4z"
      },
      "execution_count": null,
      "outputs": []
    },
    {
      "cell_type": "code",
      "source": [
        "df.head(10)\n"
      ],
      "metadata": {
        "colab": {
          "base_uri": "https://localhost:8080/",
          "height": 363
        },
        "id": "CAaxCPYkCrRa",
        "outputId": "c4682d5c-c3cd-44d0-cf5a-e51f92f76fa2"
      },
      "execution_count": null,
      "outputs": [
        {
          "output_type": "execute_result",
          "data": {
            "text/plain": [
              "               artist                               song  \\\n",
              "0           Green Day                     Hearts Collide   \n",
              "1                Rush                           Nocturne   \n",
              "2  Harry Connick, Jr.                     Blue Christmas   \n",
              "3         Cheap Trick                           Big Eyes   \n",
              "4        Bill Withers                          Who Is He   \n",
              "5               Ne-Yo                              Dream   \n",
              "6       Michael Buble  Christmas (Baby Please Come Home)   \n",
              "7          Beach Boys                     Auld Lang Syne   \n",
              "8        Indigo Girls                         Drift Away   \n",
              "9          Faith Hill                          Come Home   \n",
              "\n",
              "                                                text  \n",
              "0  Love conquers every time  \\r\\nWhen two hearts ...  \n",
              "1  Did I have a dream?  \\r\\nOr did the dream have...  \n",
              "2  I'll have a blue Christmas without you  \\r\\nI'...  \n",
              "3  It's not the way you look no-no  \\r\\nIt's not ...  \n",
              "4  A man we passed just tried to stare me down  \\...  \n",
              "5  There's no problem that I can't solve,  \\r\\nIn...  \n",
              "6  (Christmas)  \\r\\nThe snow's coming down  \\r\\n(...  \n",
              "7  Should old acquaintance be forgot  \\r\\nAnd nev...  \n",
              "8  Day after day I'm more confused  \\r\\nStill I l...  \n",
              "9  [Faith hill]  \\r\\nHello world  \\r\\nHope you're...  "
            ],
            "text/html": [
              "\n",
              "  <div id=\"df-8584bc1c-a081-4b88-9f68-4e70d777468c\" class=\"colab-df-container\">\n",
              "    <div>\n",
              "<style scoped>\n",
              "    .dataframe tbody tr th:only-of-type {\n",
              "        vertical-align: middle;\n",
              "    }\n",
              "\n",
              "    .dataframe tbody tr th {\n",
              "        vertical-align: top;\n",
              "    }\n",
              "\n",
              "    .dataframe thead th {\n",
              "        text-align: right;\n",
              "    }\n",
              "</style>\n",
              "<table border=\"1\" class=\"dataframe\">\n",
              "  <thead>\n",
              "    <tr style=\"text-align: right;\">\n",
              "      <th></th>\n",
              "      <th>artist</th>\n",
              "      <th>song</th>\n",
              "      <th>text</th>\n",
              "    </tr>\n",
              "  </thead>\n",
              "  <tbody>\n",
              "    <tr>\n",
              "      <th>0</th>\n",
              "      <td>Green Day</td>\n",
              "      <td>Hearts Collide</td>\n",
              "      <td>Love conquers every time  \\r\\nWhen two hearts ...</td>\n",
              "    </tr>\n",
              "    <tr>\n",
              "      <th>1</th>\n",
              "      <td>Rush</td>\n",
              "      <td>Nocturne</td>\n",
              "      <td>Did I have a dream?  \\r\\nOr did the dream have...</td>\n",
              "    </tr>\n",
              "    <tr>\n",
              "      <th>2</th>\n",
              "      <td>Harry Connick, Jr.</td>\n",
              "      <td>Blue Christmas</td>\n",
              "      <td>I'll have a blue Christmas without you  \\r\\nI'...</td>\n",
              "    </tr>\n",
              "    <tr>\n",
              "      <th>3</th>\n",
              "      <td>Cheap Trick</td>\n",
              "      <td>Big Eyes</td>\n",
              "      <td>It's not the way you look no-no  \\r\\nIt's not ...</td>\n",
              "    </tr>\n",
              "    <tr>\n",
              "      <th>4</th>\n",
              "      <td>Bill Withers</td>\n",
              "      <td>Who Is He</td>\n",
              "      <td>A man we passed just tried to stare me down  \\...</td>\n",
              "    </tr>\n",
              "    <tr>\n",
              "      <th>5</th>\n",
              "      <td>Ne-Yo</td>\n",
              "      <td>Dream</td>\n",
              "      <td>There's no problem that I can't solve,  \\r\\nIn...</td>\n",
              "    </tr>\n",
              "    <tr>\n",
              "      <th>6</th>\n",
              "      <td>Michael Buble</td>\n",
              "      <td>Christmas (Baby Please Come Home)</td>\n",
              "      <td>(Christmas)  \\r\\nThe snow's coming down  \\r\\n(...</td>\n",
              "    </tr>\n",
              "    <tr>\n",
              "      <th>7</th>\n",
              "      <td>Beach Boys</td>\n",
              "      <td>Auld Lang Syne</td>\n",
              "      <td>Should old acquaintance be forgot  \\r\\nAnd nev...</td>\n",
              "    </tr>\n",
              "    <tr>\n",
              "      <th>8</th>\n",
              "      <td>Indigo Girls</td>\n",
              "      <td>Drift Away</td>\n",
              "      <td>Day after day I'm more confused  \\r\\nStill I l...</td>\n",
              "    </tr>\n",
              "    <tr>\n",
              "      <th>9</th>\n",
              "      <td>Faith Hill</td>\n",
              "      <td>Come Home</td>\n",
              "      <td>[Faith hill]  \\r\\nHello world  \\r\\nHope you're...</td>\n",
              "    </tr>\n",
              "  </tbody>\n",
              "</table>\n",
              "</div>\n",
              "    <div class=\"colab-df-buttons\">\n",
              "\n",
              "  <div class=\"colab-df-container\">\n",
              "    <button class=\"colab-df-convert\" onclick=\"convertToInteractive('df-8584bc1c-a081-4b88-9f68-4e70d777468c')\"\n",
              "            title=\"Convert this dataframe to an interactive table.\"\n",
              "            style=\"display:none;\">\n",
              "\n",
              "  <svg xmlns=\"http://www.w3.org/2000/svg\" height=\"24px\" viewBox=\"0 -960 960 960\">\n",
              "    <path d=\"M120-120v-720h720v720H120Zm60-500h600v-160H180v160Zm220 220h160v-160H400v160Zm0 220h160v-160H400v160ZM180-400h160v-160H180v160Zm440 0h160v-160H620v160ZM180-180h160v-160H180v160Zm440 0h160v-160H620v160Z\"/>\n",
              "  </svg>\n",
              "    </button>\n",
              "\n",
              "  <style>\n",
              "    .colab-df-container {\n",
              "      display:flex;\n",
              "      gap: 12px;\n",
              "    }\n",
              "\n",
              "    .colab-df-convert {\n",
              "      background-color: #E8F0FE;\n",
              "      border: none;\n",
              "      border-radius: 50%;\n",
              "      cursor: pointer;\n",
              "      display: none;\n",
              "      fill: #1967D2;\n",
              "      height: 32px;\n",
              "      padding: 0 0 0 0;\n",
              "      width: 32px;\n",
              "    }\n",
              "\n",
              "    .colab-df-convert:hover {\n",
              "      background-color: #E2EBFA;\n",
              "      box-shadow: 0px 1px 2px rgba(60, 64, 67, 0.3), 0px 1px 3px 1px rgba(60, 64, 67, 0.15);\n",
              "      fill: #174EA6;\n",
              "    }\n",
              "\n",
              "    .colab-df-buttons div {\n",
              "      margin-bottom: 4px;\n",
              "    }\n",
              "\n",
              "    [theme=dark] .colab-df-convert {\n",
              "      background-color: #3B4455;\n",
              "      fill: #D2E3FC;\n",
              "    }\n",
              "\n",
              "    [theme=dark] .colab-df-convert:hover {\n",
              "      background-color: #434B5C;\n",
              "      box-shadow: 0px 1px 3px 1px rgba(0, 0, 0, 0.15);\n",
              "      filter: drop-shadow(0px 1px 2px rgba(0, 0, 0, 0.3));\n",
              "      fill: #FFFFFF;\n",
              "    }\n",
              "  </style>\n",
              "\n",
              "    <script>\n",
              "      const buttonEl =\n",
              "        document.querySelector('#df-8584bc1c-a081-4b88-9f68-4e70d777468c button.colab-df-convert');\n",
              "      buttonEl.style.display =\n",
              "        google.colab.kernel.accessAllowed ? 'block' : 'none';\n",
              "\n",
              "      async function convertToInteractive(key) {\n",
              "        const element = document.querySelector('#df-8584bc1c-a081-4b88-9f68-4e70d777468c');\n",
              "        const dataTable =\n",
              "          await google.colab.kernel.invokeFunction('convertToInteractive',\n",
              "                                                    [key], {});\n",
              "        if (!dataTable) return;\n",
              "\n",
              "        const docLinkHtml = 'Like what you see? Visit the ' +\n",
              "          '<a target=\"_blank\" href=https://colab.research.google.com/notebooks/data_table.ipynb>data table notebook</a>'\n",
              "          + ' to learn more about interactive tables.';\n",
              "        element.innerHTML = '';\n",
              "        dataTable['output_type'] = 'display_data';\n",
              "        await google.colab.output.renderOutput(dataTable, element);\n",
              "        const docLink = document.createElement('div');\n",
              "        docLink.innerHTML = docLinkHtml;\n",
              "        element.appendChild(docLink);\n",
              "      }\n",
              "    </script>\n",
              "  </div>\n",
              "\n",
              "\n",
              "<div id=\"df-924c47dd-0411-4f54-9186-8e71a4fb070e\">\n",
              "  <button class=\"colab-df-quickchart\" onclick=\"quickchart('df-924c47dd-0411-4f54-9186-8e71a4fb070e')\"\n",
              "            title=\"Suggest charts\"\n",
              "            style=\"display:none;\">\n",
              "\n",
              "<svg xmlns=\"http://www.w3.org/2000/svg\" height=\"24px\"viewBox=\"0 0 24 24\"\n",
              "     width=\"24px\">\n",
              "    <g>\n",
              "        <path d=\"M19 3H5c-1.1 0-2 .9-2 2v14c0 1.1.9 2 2 2h14c1.1 0 2-.9 2-2V5c0-1.1-.9-2-2-2zM9 17H7v-7h2v7zm4 0h-2V7h2v10zm4 0h-2v-4h2v4z\"/>\n",
              "    </g>\n",
              "</svg>\n",
              "  </button>\n",
              "\n",
              "<style>\n",
              "  .colab-df-quickchart {\n",
              "      --bg-color: #E8F0FE;\n",
              "      --fill-color: #1967D2;\n",
              "      --hover-bg-color: #E2EBFA;\n",
              "      --hover-fill-color: #174EA6;\n",
              "      --disabled-fill-color: #AAA;\n",
              "      --disabled-bg-color: #DDD;\n",
              "  }\n",
              "\n",
              "  [theme=dark] .colab-df-quickchart {\n",
              "      --bg-color: #3B4455;\n",
              "      --fill-color: #D2E3FC;\n",
              "      --hover-bg-color: #434B5C;\n",
              "      --hover-fill-color: #FFFFFF;\n",
              "      --disabled-bg-color: #3B4455;\n",
              "      --disabled-fill-color: #666;\n",
              "  }\n",
              "\n",
              "  .colab-df-quickchart {\n",
              "    background-color: var(--bg-color);\n",
              "    border: none;\n",
              "    border-radius: 50%;\n",
              "    cursor: pointer;\n",
              "    display: none;\n",
              "    fill: var(--fill-color);\n",
              "    height: 32px;\n",
              "    padding: 0;\n",
              "    width: 32px;\n",
              "  }\n",
              "\n",
              "  .colab-df-quickchart:hover {\n",
              "    background-color: var(--hover-bg-color);\n",
              "    box-shadow: 0 1px 2px rgba(60, 64, 67, 0.3), 0 1px 3px 1px rgba(60, 64, 67, 0.15);\n",
              "    fill: var(--button-hover-fill-color);\n",
              "  }\n",
              "\n",
              "  .colab-df-quickchart-complete:disabled,\n",
              "  .colab-df-quickchart-complete:disabled:hover {\n",
              "    background-color: var(--disabled-bg-color);\n",
              "    fill: var(--disabled-fill-color);\n",
              "    box-shadow: none;\n",
              "  }\n",
              "\n",
              "  .colab-df-spinner {\n",
              "    border: 2px solid var(--fill-color);\n",
              "    border-color: transparent;\n",
              "    border-bottom-color: var(--fill-color);\n",
              "    animation:\n",
              "      spin 1s steps(1) infinite;\n",
              "  }\n",
              "\n",
              "  @keyframes spin {\n",
              "    0% {\n",
              "      border-color: transparent;\n",
              "      border-bottom-color: var(--fill-color);\n",
              "      border-left-color: var(--fill-color);\n",
              "    }\n",
              "    20% {\n",
              "      border-color: transparent;\n",
              "      border-left-color: var(--fill-color);\n",
              "      border-top-color: var(--fill-color);\n",
              "    }\n",
              "    30% {\n",
              "      border-color: transparent;\n",
              "      border-left-color: var(--fill-color);\n",
              "      border-top-color: var(--fill-color);\n",
              "      border-right-color: var(--fill-color);\n",
              "    }\n",
              "    40% {\n",
              "      border-color: transparent;\n",
              "      border-right-color: var(--fill-color);\n",
              "      border-top-color: var(--fill-color);\n",
              "    }\n",
              "    60% {\n",
              "      border-color: transparent;\n",
              "      border-right-color: var(--fill-color);\n",
              "    }\n",
              "    80% {\n",
              "      border-color: transparent;\n",
              "      border-right-color: var(--fill-color);\n",
              "      border-bottom-color: var(--fill-color);\n",
              "    }\n",
              "    90% {\n",
              "      border-color: transparent;\n",
              "      border-bottom-color: var(--fill-color);\n",
              "    }\n",
              "  }\n",
              "</style>\n",
              "\n",
              "  <script>\n",
              "    async function quickchart(key) {\n",
              "      const quickchartButtonEl =\n",
              "        document.querySelector('#' + key + ' button');\n",
              "      quickchartButtonEl.disabled = true;  // To prevent multiple clicks.\n",
              "      quickchartButtonEl.classList.add('colab-df-spinner');\n",
              "      try {\n",
              "        const charts = await google.colab.kernel.invokeFunction(\n",
              "            'suggestCharts', [key], {});\n",
              "      } catch (error) {\n",
              "        console.error('Error during call to suggestCharts:', error);\n",
              "      }\n",
              "      quickchartButtonEl.classList.remove('colab-df-spinner');\n",
              "      quickchartButtonEl.classList.add('colab-df-quickchart-complete');\n",
              "    }\n",
              "    (() => {\n",
              "      let quickchartButtonEl =\n",
              "        document.querySelector('#df-924c47dd-0411-4f54-9186-8e71a4fb070e button');\n",
              "      quickchartButtonEl.style.display =\n",
              "        google.colab.kernel.accessAllowed ? 'block' : 'none';\n",
              "    })();\n",
              "  </script>\n",
              "</div>\n",
              "\n",
              "    </div>\n",
              "  </div>\n"
            ],
            "application/vnd.google.colaboratory.intrinsic+json": {
              "type": "dataframe",
              "variable_name": "df",
              "summary": "{\n  \"name\": \"df\",\n  \"rows\": 5000,\n  \"fields\": [\n    {\n      \"column\": \"artist\",\n      \"properties\": {\n        \"dtype\": \"category\",\n        \"num_unique_values\": 610,\n        \"samples\": [\n          \"Britney Spears\",\n          \"Coldplay\",\n          \"Marillion\"\n        ],\n        \"semantic_type\": \"\",\n        \"description\": \"\"\n      }\n    },\n    {\n      \"column\": \"song\",\n      \"properties\": {\n        \"dtype\": \"string\",\n        \"num_unique_values\": 4786,\n        \"samples\": [\n          \"You And I\",\n          \"Make Me A Channel Of Your Peace\",\n          \"In The Passage\"\n        ],\n        \"semantic_type\": \"\",\n        \"description\": \"\"\n      }\n    },\n    {\n      \"column\": \"text\",\n      \"properties\": {\n        \"dtype\": \"string\",\n        \"num_unique_values\": 5000,\n        \"samples\": [\n          \"In Napoli beside the sea  \\r\\nIt happened on a night like this  \\r\\nIn Napoli our hearts were free  \\r\\nAnd we surrendered to a kiss  \\r\\nThere 'neath the stars I saw heaven in her eyes  \\r\\nThere 'neath the stars I knew this was paradise  \\r\\nAll through the night in sweet delight  \\r\\nWe shared the tenderness of love  \\r\\nBut with the dawn my love was gone  \\r\\nJust like the fading stars above  \\r\\nMy lonely heart cries out please come back to me  \\r\\nBeside the sea in dear old Napoli  \\r\\nThere 'neath the stars I saw heaven in her eyes  \\r\\nThere 'neath the stars I knew this was paradise  \\r\\nAll through the night in sweet delight  \\r\\nWe shared the tenderness of love  \\r\\nBut with the dawn my love was gone  \\r\\nJust like the fading stars above  \\r\\nMy lonely heart cries out please come back to me  \\r\\nBeside the sea in dear old Napoli\\r\\n\\r\\n\",\n          \"Please baby can't you see  \\r\\nMy mind's a burnin' hell  \\r\\nI got razors a rippin' and tearin' and strippin'  \\r\\nMy heart apart as well  \\r\\nTonight you told me  \\r\\nThat you ache for something new  \\r\\nAnd some other woman is lookin' like something  \\r\\nThat might be good for you  \\r\\n  \\r\\n[Chorus]  \\r\\nGo on and hold her till the screaming is gone  \\r\\nGo on believe her when she tells you  \\r\\nNothing's wrong  \\r\\nBut I'm the only one  \\r\\nWho'll walk across the fire for you  \\r\\nAnd I'm the only one  \\r\\nWho'll drown in my desire for you  \\r\\nIt's only fear that makes you run  \\r\\nThe demons that you're hiding from  \\r\\nWhen all your promises are gone  \\r\\n  \\r\\nI'm the only one  \\r\\nPlease baby can't you see  \\r\\nI'm trying to explain  \\r\\nI've been here before and I'm locking the door  \\r\\nAnd I'm not going back again  \\r\\nHer eyes and arms and skin won't make  \\r\\nIt go away  \\r\\nYou'll wake up tomorrow and wrestle the sorrow  \\r\\nThat holds you down today  \\r\\n  \\r\\n[Chorus: 2x]\\r\\n\\r\\n\",\n          \"I never want to be part of the herd  \\r\\nI guess I was in case you haven't heard  \\r\\nMaybe you can tell that I can't stand  \\r\\nThe way I want to be the included  \\r\\nI always want to be a mystery  \\r\\nI always knew that two and two made three  \\r\\nI wish away the time I'm living in  \\r\\nI never wanna see the smile again  \\r\\n  \\r\\n[Chorus]  \\r\\nIt's not for sure  \\r\\nAnd I'm feeling  \\r\\nLike it's not for sure  \\r\\nCome on and take a drink with me  \\r\\nWhoa whoa, I don't think you can cope with it  \\r\\nI don't think you can handle it  \\r\\nWhoa whoa, Forgive my own forgetfulness  \\r\\nAnd take a drink with me  \\r\\n  \\r\\nI wanted to be two, but more than one  \\r\\nI only thought that I could be so dumb  \\r\\nCrush my heart with your new heels  \\r\\nI'd beg for you, but I don't kneel  \\r\\nI understand that you were living there  \\r\\nIt never bothered me that I don't care  \\r\\nI wonder if I'll act on my impulse  \\r\\nI wonder if I'll leave if you say go  \\r\\n  \\r\\n[Chorus]  \\r\\n  \\r\\nWhoa, would you take a drink with me  \\r\\nIf it's all you can take  \\r\\nIt'll be okay  \\r\\nIf it's all I can take  \\r\\nThen just put me away  \\r\\n  \\r\\n[Chorus]  \\r\\n  \\r\\nWhoa whoa, I don't think you can cope with it  \\r\\nSo take a drink with me  \\r\\n  \\r\\nI never want to be part of the herd  \\r\\nI guess I was in case you haven't heard  \\r\\nI wanna spend some time to make you see  \\r\\nSo why not come and take a drink with me?\\r\\n\\r\\n\"\n        ],\n        \"semantic_type\": \"\",\n        \"description\": \"\"\n      }\n    }\n  ]\n}"
            }
          },
          "metadata": {},
          "execution_count": 4
        }
      ]
    },
    {
      "cell_type": "code",
      "source": [],
      "metadata": {
        "id": "zgih97g6Dq6S"
      },
      "execution_count": null,
      "outputs": []
    },
    {
      "cell_type": "code",
      "source": [
        "df['text'] = df['text'].str.lower().replace(r'^\\w\\s', ' ').replace(r'\\n', ' ', regex = True)\n"
      ],
      "metadata": {
        "id": "0dUO3b87Cuw6"
      },
      "execution_count": null,
      "outputs": []
    },
    {
      "cell_type": "code",
      "source": [
        "import nltk\n",
        "from nltk.corpus import stopwords\n",
        "from nltk.stem import WordNetLemmatizer\n",
        "import re"
      ],
      "metadata": {
        "id": "V8IrfK-aDCA6"
      },
      "execution_count": null,
      "outputs": []
    },
    {
      "cell_type": "code",
      "source": [
        "!pip install nltk\n",
        "import nltk\n",
        "nltk.download('punkt')\n",
        "\n",
        "import nltk\n",
        "from nltk.stem.porter import PorterStemmer\n",
        "stemmer = PorterStemmer()\n",
        "\n",
        "def tokenization(txt):\n",
        "    tokens = nltk.word_tokenize(txt)\n",
        "    stemming = [stemmer.stem(w) for w in tokens]\n",
        "    return \" \".join(stemming)\n",
        "\n",
        "df['text'] = df['text'].apply(lambda x: tokenization(x))"
      ],
      "metadata": {
        "colab": {
          "base_uri": "https://localhost:8080/"
        },
        "collapsed": true,
        "id": "pA4tKsKTCzoK",
        "outputId": "6457f1a9-82eb-4bf2-b2ac-d6e01c54d921"
      },
      "execution_count": null,
      "outputs": [
        {
          "output_type": "stream",
          "name": "stdout",
          "text": [
            "Requirement already satisfied: nltk in /usr/local/lib/python3.10/dist-packages (3.8.1)\n",
            "Requirement already satisfied: click in /usr/local/lib/python3.10/dist-packages (from nltk) (8.1.7)\n",
            "Requirement already satisfied: joblib in /usr/local/lib/python3.10/dist-packages (from nltk) (1.4.2)\n",
            "Requirement already satisfied: regex>=2021.8.3 in /usr/local/lib/python3.10/dist-packages (from nltk) (2024.5.15)\n",
            "Requirement already satisfied: tqdm in /usr/local/lib/python3.10/dist-packages (from nltk) (4.66.5)\n"
          ]
        },
        {
          "output_type": "stream",
          "name": "stderr",
          "text": [
            "[nltk_data] Downloading package punkt to /root/nltk_data...\n",
            "[nltk_data]   Unzipping tokenizers/punkt.zip.\n"
          ]
        }
      ]
    },
    {
      "cell_type": "code",
      "source": [
        "from sklearn.feature_extraction.text import TfidfVectorizer\n",
        "from sklearn.metrics.pairwise import cosine_similarity"
      ],
      "metadata": {
        "id": "dOwSvxSqDpwL"
      },
      "execution_count": null,
      "outputs": []
    },
    {
      "cell_type": "code",
      "source": [
        "tfidvector = TfidfVectorizer(analyzer='word',stop_words='english')\n",
        "matrix = tfidvector.fit_transform(df['text'])\n",
        "similarity = cosine_similarity(matrix)"
      ],
      "metadata": {
        "id": "5srHklg0DmNL"
      },
      "execution_count": null,
      "outputs": []
    },
    {
      "cell_type": "code",
      "source": [
        "\n",
        "tfidvector = TfidfVectorizer(analyzer='word',stop_words='english')\n",
        "matrix = tfidvector.fit_transform(df['text'])\n",
        "similarity = cosine_similarity(matrix)"
      ],
      "metadata": {
        "id": "VOirKUysDrmQ"
      },
      "execution_count": null,
      "outputs": []
    },
    {
      "cell_type": "code",
      "source": [
        "similarity[0]\n"
      ],
      "metadata": {
        "colab": {
          "base_uri": "https://localhost:8080/"
        },
        "id": "aBT629F2Durw",
        "outputId": "94159556-81c2-4e37-fd47-8b4e34e99a99"
      },
      "execution_count": null,
      "outputs": [
        {
          "output_type": "execute_result",
          "data": {
            "text/plain": [
              "array([1.        , 0.01123837, 0.        , ..., 0.01123009, 0.00464859,\n",
              "       0.0154959 ])"
            ]
          },
          "metadata": {},
          "execution_count": 19
        }
      ]
    },
    {
      "cell_type": "code",
      "source": [
        "def recommendation(song_df):\n",
        "    idx = df[df['song'] == song_df].index[0]\n",
        "    distances = sorted(list(enumerate(similarity[idx])),reverse=True,key=lambda x:x[1])\n",
        "\n",
        "    songs = []\n",
        "    for m_id in distances[1:21]:\n",
        "        songs.append(df.iloc[m_id[0]].song)\n",
        "\n",
        "    return songs"
      ],
      "metadata": {
        "id": "nXTFX5C3D0l4"
      },
      "execution_count": null,
      "outputs": []
    },
    {
      "cell_type": "code",
      "source": [
        "recommendation('Blue Christmas')\n"
      ],
      "metadata": {
        "colab": {
          "base_uri": "https://localhost:8080/"
        },
        "id": "cXzc631-D1ug",
        "outputId": "204f0112-738d-40db-8ec7-9be91072bc64"
      },
      "execution_count": null,
      "outputs": [
        {
          "output_type": "execute_result",
          "data": {
            "text/plain": [
              "['Feeling Blue',\n",
              " 'Blue Eyes',\n",
              " 'Old Man Took',\n",
              " \"I'm Blue Again\",\n",
              " 'That Christmas Feeling',\n",
              " 'Black And Blue',\n",
              " 'Christmas (Baby Please Come Home)',\n",
              " 'Christmas Time',\n",
              " 'Cool Blue',\n",
              " 'Blue Skies',\n",
              " 'I Saw Three Ships',\n",
              " 'I Saw Three Ships',\n",
              " 'The Night Before Christmas',\n",
              " 'Here Comes The Blues',\n",
              " 'Country Christmas',\n",
              " 'Christmas Present',\n",
              " 'Grey Blue Eyes',\n",
              " 'Blues In My Mind',\n",
              " 'Christmas Time Is Here Again',\n",
              " 'Millionaire Blues']"
            ]
          },
          "metadata": {},
          "execution_count": 24
        }
      ]
    }
  ]
}