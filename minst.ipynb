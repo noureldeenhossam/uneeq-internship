{
  "nbformat": 4,
  "nbformat_minor": 0,
  "metadata": {
    "colab": {
      "provenance": [],
      "gpuType": "T4",
      "authorship_tag": "ABX9TyMkxARsdmQmYruPDleVPZjY",
      "include_colab_link": true
    },
    "kernelspec": {
      "name": "python3",
      "display_name": "Python 3"
    },
    "language_info": {
      "name": "python"
    },
    "accelerator": "GPU"
  },
  "cells": [
    {
      "cell_type": "markdown",
      "metadata": {
        "id": "view-in-github",
        "colab_type": "text"
      },
      "source": [
        "<a href=\"https://colab.research.google.com/github/noureldeenhossam/uneeq-internship/blob/main/minst.ipynb\" target=\"_parent\"><img src=\"https://colab.research.google.com/assets/colab-badge.svg\" alt=\"Open In Colab\"/></a>"
      ]
    },
    {
      "cell_type": "code",
      "execution_count": null,
      "metadata": {
        "id": "8GqMEXXsOaJS"
      },
      "outputs": [],
      "source": [
        "import pandas as pd\n",
        "from keras.utils import to_categorical\n",
        "from keras import layers, models"
      ]
    },
    {
      "cell_type": "code",
      "source": [
        "import zipfile\n",
        "import os\n",
        "zip_file_name = \"/content/MNIST-Handwritten Digit.zip\"\n",
        "minst = \"/content/dataset\"\n",
        "os.makedirs(minst, exist_ok=True)\n",
        "with zipfile.ZipFile(zip_file_name, 'r') as zip_ref:\n",
        "    zip_ref.extractall(minst)\n"
      ],
      "metadata": {
        "id": "uFEM99GkOrOP"
      },
      "execution_count": null,
      "outputs": []
    },
    {
      "cell_type": "code",
      "source": [
        "train_df = pd.read_csv('/content/dataset/train.csv')\n",
        "test_df = pd.read_csv('/content/dataset/test.csv')"
      ],
      "metadata": {
        "id": "TD1iuILEQY9U"
      },
      "execution_count": null,
      "outputs": []
    },
    {
      "cell_type": "code",
      "source": [
        "# Print the shape of the dataframes to debug\n",
        "print(f\"Train data shape: {train_df.shape}\")\n",
        "print(f\"Test data shape: {test_df.shape}\")\n",
        "\n",
        "# Print the first few rows to inspect the columns\n",
        "print(train_df.head())\n",
        "print(test_df.head())"
      ],
      "metadata": {
        "colab": {
          "base_uri": "https://localhost:8080/"
        },
        "id": "ZeKfGA7BVFdK",
        "outputId": "e0bcd3d3-2568-44af-dea6-8622725332f4"
      },
      "execution_count": null,
      "outputs": [
        {
          "output_type": "stream",
          "name": "stdout",
          "text": [
            "Train data shape: (42000, 785)\n",
            "Test data shape: (28000, 784)\n",
            "   label  pixel0  pixel1  pixel2  pixel3  pixel4  pixel5  pixel6  pixel7  \\\n",
            "0      1       0       0       0       0       0       0       0       0   \n",
            "1      0       0       0       0       0       0       0       0       0   \n",
            "2      1       0       0       0       0       0       0       0       0   \n",
            "3      4       0       0       0       0       0       0       0       0   \n",
            "4      0       0       0       0       0       0       0       0       0   \n",
            "\n",
            "   pixel8  ...  pixel774  pixel775  pixel776  pixel777  pixel778  pixel779  \\\n",
            "0       0  ...         0         0         0         0         0         0   \n",
            "1       0  ...         0         0         0         0         0         0   \n",
            "2       0  ...         0         0         0         0         0         0   \n",
            "3       0  ...         0         0         0         0         0         0   \n",
            "4       0  ...         0         0         0         0         0         0   \n",
            "\n",
            "   pixel780  pixel781  pixel782  pixel783  \n",
            "0         0         0         0         0  \n",
            "1         0         0         0         0  \n",
            "2         0         0         0         0  \n",
            "3         0         0         0         0  \n",
            "4         0         0         0         0  \n",
            "\n",
            "[5 rows x 785 columns]\n",
            "   pixel0  pixel1  pixel2  pixel3  pixel4  pixel5  pixel6  pixel7  pixel8  \\\n",
            "0       0       0       0       0       0       0       0       0       0   \n",
            "1       0       0       0       0       0       0       0       0       0   \n",
            "2       0       0       0       0       0       0       0       0       0   \n",
            "3       0       0       0       0       0       0       0       0       0   \n",
            "4       0       0       0       0       0       0       0       0       0   \n",
            "\n",
            "   pixel9  ...  pixel774  pixel775  pixel776  pixel777  pixel778  pixel779  \\\n",
            "0       0  ...         0         0         0         0         0         0   \n",
            "1       0  ...         0         0         0         0         0         0   \n",
            "2       0  ...         0         0         0         0         0         0   \n",
            "3       0  ...         0         0         0         0         0         0   \n",
            "4       0  ...         0         0         0         0         0         0   \n",
            "\n",
            "   pixel780  pixel781  pixel782  pixel783  \n",
            "0         0         0         0         0  \n",
            "1         0         0         0         0  \n",
            "2         0         0         0         0  \n",
            "3         0         0         0         0  \n",
            "4         0         0         0         0  \n",
            "\n",
            "[5 rows x 784 columns]\n"
          ]
        }
      ]
    },
    {
      "cell_type": "code",
      "source": [
        "# Extract labels and data for the training set\n",
        "train_labels = train_df.iloc[:, 0]\n",
        "train_data = train_df.iloc[:, 1:]"
      ],
      "metadata": {
        "id": "t3b_JarVU4Cq"
      },
      "execution_count": null,
      "outputs": []
    },
    {
      "cell_type": "code",
      "source": [
        "test_data = test_df\n"
      ],
      "metadata": {
        "id": "9nxEWjQ5Vm2b"
      },
      "execution_count": null,
      "outputs": []
    },
    {
      "cell_type": "code",
      "source": [
        "# Print the shape of the extracted dataframes to debug\n",
        "print(f\"Extracted Train data shape: {train_data.shape}\")\n",
        "print(f\"Extracted Test data shape: {test_data.shape}\")\n",
        "\n",
        "# Ensure train data shape is correct (num_samples, 28*28)\n",
        "assert train_data.shape[1] == 784, f\"Train data shape is not (num_samples, 784), found shape: {train_data.shape}\"\n"
      ],
      "metadata": {
        "colab": {
          "base_uri": "https://localhost:8080/"
        },
        "id": "NV3HAPeKTvXa",
        "outputId": "36b14a50-de11-47cf-d41d-6d31888a9b11"
      },
      "execution_count": null,
      "outputs": [
        {
          "output_type": "stream",
          "name": "stdout",
          "text": [
            "Extracted Train data shape: (42000, 784)\n",
            "Extracted Test data shape: (28000, 784)\n"
          ]
        }
      ]
    },
    {
      "cell_type": "code",
      "source": [
        "train_labels = to_categorical(train_labels)\n",
        "test_labels = to_categorical(test_labels)\n",
        "print(train_labels.shape)\n",
        "print(test_labels.shape)"
      ],
      "metadata": {
        "colab": {
          "base_uri": "https://localhost:8080/"
        },
        "id": "BifkjxjZTz7i",
        "outputId": "16222156-f755-4c68-e2ce-eb0593c80a90"
      },
      "execution_count": null,
      "outputs": [
        {
          "output_type": "stream",
          "name": "stdout",
          "text": [
            "(42000, 10)\n",
            "(28000, 1)\n"
          ]
        }
      ]
    },
    {
      "cell_type": "code",
      "source": [
        "# Normalize the data\n",
        "train_data = train_data.astype('float32') / 255\n",
        "test_data = test_data.astype('float32') / 255"
      ],
      "metadata": {
        "id": "X9L8fl19T4gk"
      },
      "execution_count": null,
      "outputs": []
    },
    {
      "cell_type": "code",
      "source": [
        "# Compile the model\n",
        "model.compile(optimizer='Adamax',\n",
        "              loss='categorical_crossentropy',\n",
        "              metrics=['accuracy'])\n",
        "\n",
        "\n",
        "\n"
      ],
      "metadata": {
        "id": "q3I0o8DTUAmC"
      },
      "execution_count": null,
      "outputs": []
    },
    {
      "cell_type": "code",
      "source": [
        "# Define the model\n",
        "model = models.Sequential()\n",
        "model.add(layers.Dense(64, activation='relu', input_shape=(784,)))\n",
        "model.add(layers.Dense(64, activation='relu'))\n",
        "model.add(layers.Dense(train_labels.shape[1], activation='softmax'))\n",
        "\n",
        "model.summary()"
      ],
      "metadata": {
        "colab": {
          "base_uri": "https://localhost:8080/"
        },
        "id": "9huVPpXbVwXz",
        "outputId": "4c3dc5d9-7c99-4f14-a425-7c5cc38ab108"
      },
      "execution_count": null,
      "outputs": [
        {
          "output_type": "stream",
          "name": "stdout",
          "text": [
            "Model: \"sequential_1\"\n",
            "_________________________________________________________________\n",
            " Layer (type)                Output Shape              Param #   \n",
            "=================================================================\n",
            " dense_3 (Dense)             (None, 64)                50240     \n",
            "                                                                 \n",
            " dense_4 (Dense)             (None, 64)                4160      \n",
            "                                                                 \n",
            " dense_5 (Dense)             (None, 10)                650       \n",
            "                                                                 \n",
            "=================================================================\n",
            "Total params: 55050 (215.04 KB)\n",
            "Trainable params: 55050 (215.04 KB)\n",
            "Non-trainable params: 0 (0.00 Byte)\n",
            "_________________________________________________________________\n"
          ]
        }
      ]
    },
    {
      "cell_type": "code",
      "source": [
        "# Compile the model\n",
        "model.compile(optimizer='Adamax',\n",
        "              loss='categorical_crossentropy',\n",
        "              metrics=['accuracy'])"
      ],
      "metadata": {
        "id": "j50Q9U9yUDSR"
      },
      "execution_count": null,
      "outputs": []
    },
    {
      "cell_type": "code",
      "source": [
        "model.fit(train_data, train_labels, epochs=10, batch_size=64)\n"
      ],
      "metadata": {
        "colab": {
          "base_uri": "https://localhost:8080/"
        },
        "id": "knswUeawUCR5",
        "outputId": "02d0b520-b300-4278-fa89-792a54ddeac0"
      },
      "execution_count": null,
      "outputs": [
        {
          "output_type": "stream",
          "name": "stdout",
          "text": [
            "Epoch 1/10\n",
            "657/657 [==============================] - 5s 6ms/step - loss: 0.5489 - accuracy: 0.8539\n",
            "Epoch 2/10\n",
            "657/657 [==============================] - 3s 4ms/step - loss: 0.2510 - accuracy: 0.9280\n",
            "Epoch 3/10\n",
            "657/657 [==============================] - 2s 3ms/step - loss: 0.2011 - accuracy: 0.9418\n",
            "Epoch 4/10\n",
            "657/657 [==============================] - 2s 4ms/step - loss: 0.1695 - accuracy: 0.9511\n",
            "Epoch 5/10\n",
            "657/657 [==============================] - 2s 3ms/step - loss: 0.1473 - accuracy: 0.9578\n",
            "Epoch 6/10\n",
            "657/657 [==============================] - 3s 4ms/step - loss: 0.1315 - accuracy: 0.9624\n",
            "Epoch 7/10\n",
            "657/657 [==============================] - 3s 4ms/step - loss: 0.1183 - accuracy: 0.9660\n",
            "Epoch 8/10\n",
            "657/657 [==============================] - 2s 3ms/step - loss: 0.1079 - accuracy: 0.9689\n",
            "Epoch 9/10\n",
            "657/657 [==============================] - 2s 3ms/step - loss: 0.0992 - accuracy: 0.9715\n",
            "Epoch 10/10\n",
            "657/657 [==============================] - 2s 3ms/step - loss: 0.0915 - accuracy: 0.9737\n"
          ]
        },
        {
          "output_type": "execute_result",
          "data": {
            "text/plain": [
              "<keras.src.callbacks.History at 0x7b818c070d60>"
            ]
          },
          "metadata": {},
          "execution_count": 29
        }
      ]
    },
    {
      "cell_type": "code",
      "source": [
        "train_loss, train_acc = model.evaluate(train_data, train_labels)\n",
        "print(f\"Train accuracy: {train_acc}\")"
      ],
      "metadata": {
        "colab": {
          "base_uri": "https://localhost:8080/"
        },
        "id": "WjlrN6qhV_z-",
        "outputId": "2ca675d5-2bef-4ea5-dd41-cbe0bfddc7f8"
      },
      "execution_count": null,
      "outputs": [
        {
          "output_type": "stream",
          "name": "stdout",
          "text": [
            "1313/1313 [==============================] - 3s 2ms/step - loss: 0.0833 - accuracy: 0.9764\n",
            "Train accuracy: 0.9763809442520142\n"
          ]
        }
      ]
    },
    {
      "cell_type": "code",
      "source": [
        "# Predict on the test data (since we don't have test labels, we can only predict)\n",
        "test_predictions = model.predict(test_data)\n",
        "print(test_predictions)"
      ],
      "metadata": {
        "colab": {
          "base_uri": "https://localhost:8080/"
        },
        "id": "X-EsYN2JWB0q",
        "outputId": "43225fb8-3938-46ad-fdf2-ed88ad10179e"
      },
      "execution_count": null,
      "outputs": [
        {
          "output_type": "stream",
          "name": "stdout",
          "text": [
            "875/875 [==============================] - 2s 2ms/step\n",
            "[[4.59137965e-07 1.61952363e-09 9.99997020e-01 ... 2.53502520e-07\n",
            "  8.59477325e-08 1.60365428e-08]\n",
            " [9.99873638e-01 1.35362352e-08 1.74727029e-05 ... 1.65898072e-07\n",
            "  4.17860768e-09 7.42116502e-09]\n",
            " [1.12050984e-04 2.44538649e-04 3.61861312e-04 ... 1.68275286e-03\n",
            "  5.05225360e-03 9.60751116e-01]\n",
            " ...\n",
            " [1.08167511e-08 1.91150733e-07 3.66158481e-08 ... 1.62638099e-08\n",
            "  6.09737981e-06 4.81522256e-05]\n",
            " [5.65510163e-05 1.83975118e-07 7.62832769e-07 ... 5.02795505e-04\n",
            "  2.53640301e-05 9.54477429e-01]\n",
            " [9.93679578e-07 6.31954649e-08 9.99977827e-01 ... 7.57140199e-08\n",
            "  4.69398003e-07 7.27488100e-07]]\n"
          ]
        }
      ]
    }
  ]
}